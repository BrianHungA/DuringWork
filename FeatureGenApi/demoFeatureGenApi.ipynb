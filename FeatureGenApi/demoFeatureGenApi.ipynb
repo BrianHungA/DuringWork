{
 "cells": [
  {
   "cell_type": "code",
   "execution_count": 5,
   "metadata": {},
   "outputs": [
    {
     "name": "stdout",
     "output_type": "stream",
     "text": [
      "Please input the .csv file path : /Users/brianhung/Documents/GitRepo/DuringWork/FeatureGenApi/Data/FakeDataForDemo.csv\n"
     ]
    }
   ],
   "source": [
    "import pandas as pd\n",
    "import FeatureGenApi as fga\n",
    "\n",
    "path = input(\"Please input the .csv file path : \") # .../DuringWork/FeatureGenApi/Data/FakeDataForDemo.csv\n",
    "\n",
    "# Run Feature: timeGroup\n",
    "dataForTimeGroup = pd.read_csv(path,sep = ',')\n",
    "timeGroupGen = fga.TimeGroupGen(dataForTimeGroup,60,30)\n",
    "timeGroupResult = timeGroupGen.main()\n",
    "timeGroupResult.to_csv(path_or_buf = 'timeGroupResult.csv', sep = ',')\n",
    "\n",
    "# Run Feature: queryNumber\n",
    "dataForQueryNumber = pd.read_csv(path,sep = ',')\n",
    "queryNumberGen = fga.QueryNumberGen(dataForQueryNumber)\n",
    "queryNumberResult = queryNumberGen.main()\n",
    "queryNumberResult.to_csv(path_or_buf = 'queryNumberResult.csv', sep = ',')"
   ]
  }
 ],
 "metadata": {
  "kernelspec": {
   "display_name": "Python 3",
   "language": "python",
   "name": "python3"
  },
  "language_info": {
   "codemirror_mode": {
    "name": "ipython",
    "version": 3
   },
   "file_extension": ".py",
   "mimetype": "text/x-python",
   "name": "python",
   "nbconvert_exporter": "python",
   "pygments_lexer": "ipython3",
   "version": "3.7.3"
  }
 },
 "nbformat": 4,
 "nbformat_minor": 2
}
